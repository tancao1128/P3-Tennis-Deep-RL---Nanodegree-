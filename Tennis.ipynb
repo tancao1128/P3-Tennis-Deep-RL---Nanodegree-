{
 "cells": [
  {
   "cell_type": "markdown",
   "metadata": {},
   "source": [
    "# Continuous Control\n",
    "\n",
    "---\n",
    "\n",
    "In this notebook, you will learn how to use the Unity ML-Agents environment for the second project of the [Deep Reinforcement Learning Nanodegree](https://www.udacity.com/course/deep-reinforcement-learning-nanodegree--nd893) program.\n",
    "\n",
    "### 1. Start the Environment\n",
    "\n",
    "We begin by importing the necessary packages.  If the code cell below returns an error, please revisit the project instructions to double-check that you have installed [Unity ML-Agents](https://github.com/Unity-Technologies/ml-agents/blob/master/docs/Installation.md) and [NumPy](http://www.numpy.org/)."
   ]
  },
  {
   "cell_type": "code",
   "execution_count": 1,
   "metadata": {},
   "outputs": [],
   "source": [
    "# when running in Udacity workspace\n",
    "# !pip -q install ./python\n",
    "\n",
    "import time\n",
    "import torch\n",
    "import random\n",
    "import numpy as np\n",
    "from collections import deque\n",
    "import matplotlib.pyplot as plt\n",
    "from unityagents import UnityEnvironment\n",
    "\n",
    "%matplotlib inline"
   ]
  },
  {
   "cell_type": "markdown",
   "metadata": {},
   "source": [
    "Next, we will start the environment!  **_Before running the code cell below_**, change the `file_name` parameter to match the location of the Unity environment that you downloaded.\n",
    "\n",
    "- **Mac**: `\"path/to/Reacher.app\"`\n",
    "- **Windows** (x86): `\"path/to/Reacher_Windows_x86/Reacher.exe\"`\n",
    "- **Windows** (x86_64): `\"path/to/Reacher_Windows_x86_64/Reacher.exe\"`\n",
    "- **Linux** (x86): `\"path/to/Reacher_Linux/Reacher.x86\"`\n",
    "- **Linux** (x86_64): `\"path/to/Reacher_Linux/Reacher.x86_64\"`\n",
    "- **Linux** (x86, headless): `\"path/to/Reacher_Linux_NoVis/Reacher.x86\"`\n",
    "- **Linux** (x86_64, headless): `\"path/to/Reacher_Linux_NoVis/Reacher.x86_64\"`\n",
    "\n",
    "For instance, if you are using a Mac, then you downloaded `Reacher.app`.  If this file is in the same folder as the notebook, then the line below should appear as follows:\n",
    "```\n",
    "env = UnityEnvironment(file_name=\"Reacher.app\")\n",
    "```"
   ]
  },
  {
   "cell_type": "code",
   "execution_count": 2,
   "metadata": {},
   "outputs": [
    {
     "name": "stderr",
     "output_type": "stream",
     "text": [
      "INFO:unityagents:\n",
      "'Academy' started successfully!\n",
      "Unity Academy name: Academy\n",
      "        Number of Brains: 1\n",
      "        Number of External Brains : 1\n",
      "        Lesson number : 0\n",
      "        Reset Parameters :\n",
      "\t\t\n",
      "Unity brain name: TennisBrain\n",
      "        Number of Visual Observations (per agent): 0\n",
      "        Vector Observation space type: continuous\n",
      "        Vector Observation space size (per agent): 8\n",
      "        Number of stacked Vector Observation: 3\n",
      "        Vector Action space type: continuous\n",
      "        Vector Action space size (per agent): 2\n",
      "        Vector Action descriptions: , \n"
     ]
    }
   ],
   "source": [
    "## when running locally\n",
    "env = UnityEnvironment(file_name='Tennis.app')"
   ]
  },
  {
   "cell_type": "markdown",
   "metadata": {},
   "source": [
    "Environments contain **_brains_** which are responsible for deciding the actions of their associated agents. Here we check for the first brain available, and set it as the default brain we will be controlling from Python."
   ]
  },
  {
   "cell_type": "code",
   "execution_count": 3,
   "metadata": {},
   "outputs": [],
   "source": [
    "# get the default brain\n",
    "brain_name = env.brain_names[0]\n",
    "brain = env.brains[brain_name]"
   ]
  },
  {
   "cell_type": "markdown",
   "metadata": {},
   "source": [
    "### 2. Examine the State and Action Spaces\n",
    "\n",
    "In this environment, two agents control rackets to bounce a ball over a net. If an agent hits the ball over the net, it receives a reward of +0.1.  If an agent lets a ball hit the ground or hits the ball out of bounds, it receives a reward of -0.01.  Thus, the goal of each agent is to keep the ball in play.\n",
    "\n",
    "The observation space consists of 8 variables corresponding to the position and velocity of the ball and racket. Two continuous actions are available, corresponding to movement toward (or away from) the net, and jumping. \n",
    "\n",
    "Run the code cell below to print some information about the environment."
   ]
  },
  {
   "cell_type": "code",
   "execution_count": 4,
   "metadata": {},
   "outputs": [
    {
     "name": "stdout",
     "output_type": "stream",
     "text": [
      "Number of agents: 2\n",
      "Size of each action: 2\n",
      "There are 2 agents. Each observes a state with length: 24\n",
      "The state for the first agent looks like: [ 0.          0.          0.          0.          0.          0.\n",
      "  0.          0.          0.          0.          0.          0.\n",
      "  0.          0.          0.          0.         -6.65278625 -1.5\n",
      " -0.          0.          6.83172083  6.         -0.          0.        ]\n"
     ]
    }
   ],
   "source": [
    "# reset the environment\n",
    "env_info = env.reset(train_mode=True)[brain_name]\n",
    "\n",
    "# number of agents\n",
    "num_agents = len(env_info.agents)\n",
    "print('Number of agents:', num_agents)\n",
    "\n",
    "# size of each action\n",
    "action_size = brain.vector_action_space_size\n",
    "print('Size of each action:', action_size)\n",
    "\n",
    "# examine the state space \n",
    "states = env_info.vector_observations\n",
    "state_size = states.shape[1]\n",
    "print('There are {} agents. Each observes a state with length: {}'.format(states.shape[0], state_size))\n",
    "print('The state for the first agent looks like:', states[0])"
   ]
  },
  {
   "cell_type": "markdown",
   "metadata": {},
   "source": [
    "### 3. Take Random Actions in the Environment\n",
    "\n",
    "In the next code cell, you will learn how to use the Python API to control the agent and receive feedback from the environment.\n",
    "\n",
    "Once this cell is executed, you will watch the agent's performance, if it selects an action at random with each time step.  A window should pop up that allows you to observe the agent, as it moves through the environment.  \n",
    "\n",
    "Of course, as part of the project, you'll have to change the code so that the agent is able to use its experience to gradually choose better actions when interacting with the environment!"
   ]
  },
  {
   "cell_type": "code",
   "execution_count": 13,
   "metadata": {},
   "outputs": [
    {
     "name": "stdout",
     "output_type": "stream",
     "text": [
      "Score (max over agents) from episode 1: 0.0\n",
      "Score (max over agents) from episode 2: 0.0\n",
      "Score (max over agents) from episode 3: 0.0\n",
      "Score (max over agents) from episode 4: 0.0\n",
      "Score (max over agents) from episode 5: 0.0\n"
     ]
    }
   ],
   "source": [
    "for i in range(1, 6):                                      # play game for 5 episodes\n",
    "    env_info = env.reset(train_mode=False)[brain_name]     # reset the environment    \n",
    "    states = env_info.vector_observations                  # get the current state (for each agent)\n",
    "    scores = np.zeros(num_agents)                          # initialize the score (for each agent)\n",
    "    while True:\n",
    "        actions = np.random.randn(num_agents, action_size) # select an action (for each agent)\n",
    "        actions = np.clip(actions, -1, 1)                  # all actions between -1 and 1\n",
    "        env_info = env.step(actions)[brain_name]           # send all actions to tne environment\n",
    "        next_states = env_info.vector_observations         # get next state (for each agent)\n",
    "        rewards = env_info.rewards                         # get reward (for each agent)\n",
    "        dones = env_info.local_done                        # see if episode finished\n",
    "        scores += env_info.rewards                         # update the score (for each agent)\n",
    "        states = next_states                               # roll over states to next time step\n",
    "        if np.any(dones):                                  # exit loop if episode finished\n",
    "            break\n",
    "    print('Score (max over agents) from episode {}: {}'.format(i, np.max(scores)))"
   ]
  },
  {
   "cell_type": "markdown",
   "metadata": {},
   "source": [
    "### 4. It's Your Turn!\n",
    "\n",
    "Now it's your turn to train your own agent to solve the environment!  When training the environment, set `train_mode=True`, so that the line for resetting the environment looks like the following:\n",
    "```python\n",
    "env_info = env.reset(train_mode=True)[brain_name]\n",
    "```"
   ]
  },
  {
   "cell_type": "code",
   "execution_count": 9,
   "metadata": {},
   "outputs": [],
   "source": [
    "def maddpg(n_episodes=3000, train_mode=True,_solved_score = 0.5 ,_consec_episodes = 100, _print_every = 10, _add_noise = True):\n",
    "    \"\"\"Multi-Agent Deep Deterministic Policy Gradient (MADDPG)\n",
    "    \n",
    "    Params\n",
    "    ======\n",
    "        n_episodes (int)      : maximum number of training episodes\n",
    "        train_mode (bool)     : if 'True' set environment to training mode\n",
    "        _solved_score (float)  : min avg score over consecutive episodes\n",
    "        _consec_episodes (int) : number of consecutive episodes used to calculate score\n",
    "        _print_every (int)     : interval to display results\n",
    "        _add_noise (bool)     : if 'True' add noise in the training process\n",
    "\n",
    "    \"\"\"\n",
    "    scores_final = []\n",
    "    moving_average = []\n",
    "    best_score = -np.inf\n",
    "    best_episode = 0\n",
    "    already_solved = False \n",
    "    scores_window = deque(maxlen=_consec_episodes)\n",
    "\n",
    "    for i_episode in range(1, n_episodes+1):\n",
    "        env_info = env.reset(train_mode=train_mode)[brain_name]         # reset the environment\n",
    "        states = np.reshape(env_info.vector_observations, (1,48)) # get states and combine them\n",
    "        agent_0.noise.reset()\n",
    "        agent_1.noise.reset()\n",
    "        scores = np.zeros(num_agents)\n",
    "        while True:\n",
    "            actions = np.concatenate((agent_0.act(states, _add_noise), agent_1.act(states, _add_noise)), axis=0).flatten()           # choose agent actions and combine them\n",
    "            env_info = env.step(actions)[brain_name]           # send both agents' actions together to the environment\n",
    "            next_states = np.reshape(env_info.vector_observations, (1, 48)) # combine the agent next states\n",
    "            rewards = env_info.rewards                         # get reward\n",
    "            done = env_info.local_done                         # see if episode finished\n",
    "            agent_0.step(states, actions, rewards[0], next_states, done, 0) # agent 1 learns\n",
    "            agent_1.step(states, actions, rewards[1], next_states, done, 1) # agent 2 learns\n",
    "            scores += np.max(rewards)                          # update the score for each agent\n",
    "            states = next_states                               # roll over states to next time step\n",
    "            if np.any(done):                                   # exit loop if episode finished\n",
    "                break\n",
    "\n",
    "        episode_best_score = np.max(scores)\n",
    "        scores_window.append(episode_best_score)\n",
    "        scores_final.append(episode_best_score)\n",
    "        moving_average.append(np.mean(scores_window))\n",
    "\n",
    "        # save best score                        \n",
    "        if episode_best_score > best_score:\n",
    "            best_score = episode_best_score\n",
    "            best_episode = i_episode\n",
    "        \n",
    "        # print results\n",
    "        if i_episode % _print_every == 0:\n",
    "            print('Episode number {} \\tWithin \\t{} episodes\\tMean score: {:5.2f} (H: {:5.2f} / L: {:5.2f}) \\tMoving Average: {:.3f}'.format(\n",
    "                i_episode, _print_every, np.mean(scores_final[-_print_every:]), np.max(scores_final[-_print_every:]), np.min(scores_final[-_print_every:]), moving_average[-1]))\n",
    "\n",
    "        # determine if environment is solved and save the best performing models\n",
    "        if moving_average[-1] >= _solved_score:\n",
    "            print('<-- Environment solved in {:d} episodes! \\\n",
    "                \\n<-- Moving Average: {:.3f} over past {:d} episodes'.format(\n",
    "                    i_episode-_consec_episodes, moving_average[-1], _consec_episodes))\n",
    "            # save weights\n",
    "            torch.save(agent_0.actor_local.state_dict(), 'models/checkpoint_actor_0.pth')\n",
    "            torch.save(agent_1.actor_local.state_dict(), 'models/checkpoint_actor_1.pth')\n",
    "            break\n",
    "            \n",
    "    return scores_final, moving_average"
   ]
  },
  {
   "cell_type": "markdown",
   "metadata": {},
   "source": [
    "### Best Model"
   ]
  },
  {
   "cell_type": "code",
   "execution_count": 10,
   "metadata": {},
   "outputs": [
    {
     "name": "stderr",
     "output_type": "stream",
     "text": [
      "/Users/tancao/Desktop/p3_collab-compet/maddpg_agent.py:123: UserWarning: Using a target size (torch.Size([128, 2])) that is different to the input size (torch.Size([128, 1])). This will likely lead to incorrect results due to broadcasting. Please ensure they have the same size.\n",
      "  critic_loss = F.mse_loss(Q_expected, Q_targets)\n"
     ]
    },
    {
     "name": "stdout",
     "output_type": "stream",
     "text": [
      "Episode number 10 \tWithin \t10 episodes\tMean score:  0.00 (H:  0.00 / L:  0.00) \tMoving Average: 0.000\n",
      "Episode number 20 \tWithin \t10 episodes\tMean score:  0.00 (H:  0.00 / L:  0.00) \tMoving Average: 0.000\n",
      "Episode number 30 \tWithin \t10 episodes\tMean score:  0.00 (H:  0.00 / L:  0.00) \tMoving Average: 0.000\n",
      "Episode number 40 \tWithin \t10 episodes\tMean score:  0.00 (H:  0.00 / L:  0.00) \tMoving Average: 0.000\n",
      "Episode number 50 \tWithin \t10 episodes\tMean score:  0.00 (H:  0.00 / L:  0.00) \tMoving Average: 0.000\n",
      "Episode number 60 \tWithin \t10 episodes\tMean score:  0.00 (H:  0.00 / L:  0.00) \tMoving Average: 0.000\n",
      "Episode number 70 \tWithin \t10 episodes\tMean score:  0.05 (H:  0.10 / L:  0.00) \tMoving Average: 0.007\n",
      "Episode number 80 \tWithin \t10 episodes\tMean score:  0.05 (H:  0.10 / L:  0.00) \tMoving Average: 0.013\n",
      "Episode number 90 \tWithin \t10 episodes\tMean score:  0.02 (H:  0.10 / L:  0.00) \tMoving Average: 0.013\n",
      "Episode number 100 \tWithin \t10 episodes\tMean score:  0.02 (H:  0.10 / L:  0.00) \tMoving Average: 0.014\n",
      "Episode number 110 \tWithin \t10 episodes\tMean score:  0.03 (H:  0.10 / L:  0.00) \tMoving Average: 0.017\n",
      "Episode number 120 \tWithin \t10 episodes\tMean score:  0.06 (H:  0.20 / L:  0.00) \tMoving Average: 0.023\n",
      "Episode number 130 \tWithin \t10 episodes\tMean score:  0.08 (H:  0.20 / L:  0.00) \tMoving Average: 0.031\n",
      "Episode number 140 \tWithin \t10 episodes\tMean score:  0.04 (H:  0.10 / L:  0.00) \tMoving Average: 0.035\n",
      "Episode number 150 \tWithin \t10 episodes\tMean score:  0.02 (H:  0.10 / L:  0.00) \tMoving Average: 0.037\n",
      "Episode number 160 \tWithin \t10 episodes\tMean score:  0.08 (H:  0.20 / L:  0.00) \tMoving Average: 0.045\n",
      "Episode number 170 \tWithin \t10 episodes\tMean score:  0.08 (H:  0.10 / L:  0.00) \tMoving Average: 0.048\n",
      "Episode number 180 \tWithin \t10 episodes\tMean score:  0.09 (H:  0.20 / L:  0.00) \tMoving Average: 0.052\n",
      "Episode number 190 \tWithin \t10 episodes\tMean score:  0.13 (H:  0.30 / L:  0.00) \tMoving Average: 0.063\n",
      "Episode number 200 \tWithin \t10 episodes\tMean score:  0.12 (H:  0.20 / L:  0.10) \tMoving Average: 0.073\n",
      "Episode number 210 \tWithin \t10 episodes\tMean score:  0.05 (H:  0.10 / L:  0.00) \tMoving Average: 0.075\n",
      "Episode number 220 \tWithin \t10 episodes\tMean score:  0.14 (H:  0.30 / L:  0.00) \tMoving Average: 0.083\n",
      "Episode number 230 \tWithin \t10 episodes\tMean score:  0.08 (H:  0.20 / L:  0.00) \tMoving Average: 0.083\n",
      "Episode number 240 \tWithin \t10 episodes\tMean score:  0.08 (H:  0.10 / L:  0.00) \tMoving Average: 0.087\n",
      "Episode number 250 \tWithin \t10 episodes\tMean score:  0.12 (H:  0.30 / L:  0.00) \tMoving Average: 0.097\n",
      "Episode number 260 \tWithin \t10 episodes\tMean score:  0.09 (H:  0.20 / L:  0.00) \tMoving Average: 0.098\n",
      "Episode number 270 \tWithin \t10 episodes\tMean score:  0.09 (H:  0.20 / L:  0.00) \tMoving Average: 0.099\n",
      "Episode number 280 \tWithin \t10 episodes\tMean score:  0.09 (H:  0.20 / L:  0.00) \tMoving Average: 0.099\n",
      "Episode number 290 \tWithin \t10 episodes\tMean score:  0.10 (H:  0.30 / L:  0.00) \tMoving Average: 0.096\n",
      "Episode number 300 \tWithin \t10 episodes\tMean score:  0.08 (H:  0.30 / L:  0.00) \tMoving Average: 0.092\n",
      "Episode number 310 \tWithin \t10 episodes\tMean score:  0.06 (H:  0.20 / L:  0.00) \tMoving Average: 0.093\n",
      "Episode number 320 \tWithin \t10 episodes\tMean score:  0.14 (H:  0.20 / L:  0.10) \tMoving Average: 0.093\n",
      "Episode number 330 \tWithin \t10 episodes\tMean score:  0.12 (H:  0.20 / L:  0.00) \tMoving Average: 0.097\n",
      "Episode number 340 \tWithin \t10 episodes\tMean score:  0.16 (H:  0.20 / L:  0.00) \tMoving Average: 0.105\n",
      "Episode number 350 \tWithin \t10 episodes\tMean score:  0.12 (H:  0.30 / L:  0.00) \tMoving Average: 0.105\n",
      "Episode number 360 \tWithin \t10 episodes\tMean score:  0.13 (H:  0.40 / L:  0.00) \tMoving Average: 0.109\n",
      "Episode number 370 \tWithin \t10 episodes\tMean score:  0.14 (H:  0.20 / L:  0.00) \tMoving Average: 0.114\n",
      "Episode number 380 \tWithin \t10 episodes\tMean score:  0.21 (H:  0.80 / L:  0.10) \tMoving Average: 0.126\n",
      "Episode number 390 \tWithin \t10 episodes\tMean score:  0.11 (H:  0.20 / L:  0.00) \tMoving Average: 0.127\n",
      "Episode number 400 \tWithin \t10 episodes\tMean score:  0.13 (H:  0.70 / L:  0.00) \tMoving Average: 0.132\n",
      "Episode number 410 \tWithin \t10 episodes\tMean score:  0.12 (H:  0.20 / L:  0.00) \tMoving Average: 0.138\n",
      "Episode number 420 \tWithin \t10 episodes\tMean score:  0.08 (H:  0.20 / L:  0.00) \tMoving Average: 0.132\n",
      "Episode number 430 \tWithin \t10 episodes\tMean score:  0.07 (H:  0.30 / L:  0.00) \tMoving Average: 0.127\n",
      "Episode number 440 \tWithin \t10 episodes\tMean score:  0.15 (H:  0.30 / L:  0.00) \tMoving Average: 0.126\n",
      "Episode number 450 \tWithin \t10 episodes\tMean score:  0.08 (H:  0.10 / L:  0.00) \tMoving Average: 0.122\n",
      "Episode number 460 \tWithin \t10 episodes\tMean score:  0.06 (H:  0.20 / L:  0.00) \tMoving Average: 0.115\n",
      "Episode number 470 \tWithin \t10 episodes\tMean score:  0.13 (H:  0.20 / L:  0.00) \tMoving Average: 0.114\n",
      "Episode number 480 \tWithin \t10 episodes\tMean score:  0.14 (H:  0.30 / L:  0.10) \tMoving Average: 0.107\n",
      "Episode number 490 \tWithin \t10 episodes\tMean score:  0.17 (H:  0.70 / L:  0.00) \tMoving Average: 0.113\n",
      "Episode number 500 \tWithin \t10 episodes\tMean score:  0.15 (H:  0.30 / L:  0.10) \tMoving Average: 0.115\n",
      "Episode number 510 \tWithin \t10 episodes\tMean score:  0.19 (H:  0.30 / L:  0.10) \tMoving Average: 0.122\n",
      "Episode number 520 \tWithin \t10 episodes\tMean score:  0.22 (H:  0.70 / L:  0.00) \tMoving Average: 0.136\n",
      "Episode number 530 \tWithin \t10 episodes\tMean score:  0.09 (H:  0.30 / L:  0.00) \tMoving Average: 0.138\n",
      "Episode number 540 \tWithin \t10 episodes\tMean score:  0.14 (H:  0.50 / L:  0.00) \tMoving Average: 0.137\n",
      "Episode number 550 \tWithin \t10 episodes\tMean score:  0.15 (H:  0.29 / L:  0.00) \tMoving Average: 0.144\n",
      "Episode number 560 \tWithin \t10 episodes\tMean score:  0.17 (H:  0.40 / L:  0.10) \tMoving Average: 0.155\n",
      "Episode number 570 \tWithin \t10 episodes\tMean score:  0.21 (H:  0.60 / L:  0.00) \tMoving Average: 0.163\n",
      "Episode number 580 \tWithin \t10 episodes\tMean score:  0.18 (H:  0.50 / L:  0.10) \tMoving Average: 0.167\n",
      "Episode number 590 \tWithin \t10 episodes\tMean score:  0.13 (H:  0.20 / L:  0.00) \tMoving Average: 0.163\n",
      "Episode number 600 \tWithin \t10 episodes\tMean score:  0.25 (H:  0.80 / L:  0.10) \tMoving Average: 0.173\n",
      "Episode number 610 \tWithin \t10 episodes\tMean score:  0.17 (H:  0.40 / L:  0.00) \tMoving Average: 0.171\n",
      "Episode number 620 \tWithin \t10 episodes\tMean score:  0.18 (H:  0.60 / L:  0.00) \tMoving Average: 0.167\n",
      "Episode number 630 \tWithin \t10 episodes\tMean score:  0.13 (H:  0.70 / L:  0.00) \tMoving Average: 0.171\n",
      "Episode number 640 \tWithin \t10 episodes\tMean score:  0.30 (H:  1.00 / L:  0.00) \tMoving Average: 0.187\n",
      "Episode number 650 \tWithin \t10 episodes\tMean score:  0.17 (H:  0.40 / L:  0.10) \tMoving Average: 0.189\n",
      "Episode number 660 \tWithin \t10 episodes\tMean score:  0.10 (H:  0.20 / L:  0.00) \tMoving Average: 0.182\n",
      "Episode number 670 \tWithin \t10 episodes\tMean score:  0.24 (H:  0.80 / L:  0.10) \tMoving Average: 0.185\n",
      "Episode number 680 \tWithin \t10 episodes\tMean score:  0.13 (H:  0.30 / L:  0.00) \tMoving Average: 0.180\n",
      "Episode number 690 \tWithin \t10 episodes\tMean score:  0.16 (H:  0.30 / L:  0.10) \tMoving Average: 0.183\n",
      "Episode number 700 \tWithin \t10 episodes\tMean score:  0.16 (H:  0.50 / L:  0.10) \tMoving Average: 0.174\n",
      "Episode number 710 \tWithin \t10 episodes\tMean score:  0.22 (H:  0.70 / L:  0.10) \tMoving Average: 0.179\n",
      "Episode number 720 \tWithin \t10 episodes\tMean score:  0.35 (H:  0.80 / L:  0.10) \tMoving Average: 0.196\n",
      "Episode number 730 \tWithin \t10 episodes\tMean score:  0.21 (H:  0.70 / L:  0.10) \tMoving Average: 0.204\n",
      "Episode number 740 \tWithin \t10 episodes\tMean score:  0.26 (H:  0.60 / L:  0.00) \tMoving Average: 0.200\n",
      "Episode number 750 \tWithin \t10 episodes\tMean score:  0.22 (H:  0.60 / L:  0.00) \tMoving Average: 0.205\n",
      "Episode number 760 \tWithin \t10 episodes\tMean score:  0.22 (H:  0.60 / L:  0.10) \tMoving Average: 0.217\n",
      "Episode number 770 \tWithin \t10 episodes\tMean score:  0.12 (H:  0.20 / L:  0.00) \tMoving Average: 0.205\n",
      "Episode number 780 \tWithin \t10 episodes\tMean score:  0.17 (H:  0.40 / L:  0.00) \tMoving Average: 0.209\n",
      "Episode number 790 \tWithin \t10 episodes\tMean score:  0.48 (H:  1.20 / L:  0.00) \tMoving Average: 0.241\n",
      "Episode number 800 \tWithin \t10 episodes\tMean score:  0.25 (H:  0.50 / L:  0.10) \tMoving Average: 0.250\n"
     ]
    },
    {
     "name": "stdout",
     "output_type": "stream",
     "text": [
      "Episode number 810 \tWithin \t10 episodes\tMean score:  0.29 (H:  1.10 / L:  0.10) \tMoving Average: 0.257\n",
      "Episode number 820 \tWithin \t10 episodes\tMean score:  0.59 (H:  2.30 / L:  0.10) \tMoving Average: 0.281\n",
      "Episode number 830 \tWithin \t10 episodes\tMean score:  0.45 (H:  1.70 / L:  0.10) \tMoving Average: 0.305\n",
      "Episode number 840 \tWithin \t10 episodes\tMean score:  0.77 (H:  2.30 / L:  0.00) \tMoving Average: 0.356\n",
      "Episode number 850 \tWithin \t10 episodes\tMean score:  0.26 (H:  0.60 / L:  0.10) \tMoving Average: 0.360\n",
      "Episode number 860 \tWithin \t10 episodes\tMean score:  0.98 (H:  3.40 / L:  0.10) \tMoving Average: 0.436\n",
      "<-- Environment solved in 769 episodes!                 \n",
      "<-- Moving Average: 0.503 over past 100 episodes\n"
     ]
    }
   ],
   "source": [
    "# initialize agents\n",
    "from maddpg_agent import Agent\n",
    "agent_0 = Agent(state_size, action_size, num_agents=1, random_seed=0)\n",
    "agent_1 = Agent(state_size, action_size, num_agents=1, random_seed=0)\n",
    "\n",
    "# run the training loop\n",
    "scores, avgs = maddpg()"
   ]
  },
  {
   "cell_type": "code",
   "execution_count": 11,
   "metadata": {},
   "outputs": [
    {
     "data": {
      "image/png": "[encoded data removed]",
      "text/plain": [
       "<Figure size 432x288 with 1 Axes>"
      ]
     },
     "metadata": {
      "needs_background": "light"
     },
     "output_type": "display_data"
    }
   ],
   "source": [
    "# plot the scores\n",
    "\n",
    "fig = plt.figure()\n",
    "ax = fig.add_subplot(111)\n",
    "plt.plot(np.arange(len(scores)), scores, label='MADDPG')\n",
    "plt.plot(np.arange(len(scores)), avgs, c='r', label='moving avg')\n",
    "plt.ylabel('Score')\n",
    "plt.xlabel('Episode #')\n",
    "plt.legend(loc = 0)\n",
    "plt.show()"
   ]
  },
  {
   "cell_type": "markdown",
   "metadata": {},
   "source": [
    "---\n",
    "### 5. Watch the trained agent performing in the environment"
   ]
  },
  {
   "cell_type": "code",
   "execution_count": 5,
   "metadata": {},
   "outputs": [
    {
     "data": {
      "text/plain": [
       "<All keys matched successfully>"
      ]
     },
     "execution_count": 5,
     "metadata": {},
     "output_type": "execute_result"
    }
   ],
   "source": [
    "_add_noise = False\n",
    "## reinitialize the agents (if needed)\n",
    "from maddpg_agent import Agent\n",
    "agent_0 = Agent(state_size, action_size, num_agents=1, random_seed=0)\n",
    "agent_1 = Agent(state_size, action_size, num_agents=1, random_seed=0)\n",
    "\n",
    "# load the weights from file\n",
    "agent_0_weights = 'models/checkpoint_actor_0.pth'\n",
    "agent_1_weights = 'models/checkpoint_actor_1.pth'\n",
    "agent_0.actor_local.load_state_dict(torch.load(agent_0_weights))\n",
    "agent_1.actor_local.load_state_dict(torch.load(agent_1_weights))     "
   ]
  },
  {
   "cell_type": "code",
   "execution_count": 6,
   "metadata": {},
   "outputs": [
    {
     "name": "stdout",
     "output_type": "stream",
     "text": [
      "Score (max over agents) from episode 1: 0.9000000134110451\n",
      "Score (max over agents) from episode 2: 1.3000000193715096\n",
      "Score (max over agents) from episode 3: 0.800000011920929\n",
      "Score (max over agents) from episode 4: 0.5000000074505806\n",
      "Score (max over agents) from episode 5: 1.2000000178813934\n"
     ]
    }
   ],
   "source": [
    "for i in range(1, 6):                                      # play game for 5 episodes\n",
    "    env_info = env.reset(train_mode=False)[brain_name]     # reset the environment    \n",
    "    states = np.reshape(env_info.vector_observations, (1,48))  # get the current state (for each agent)\n",
    "    scores = np.zeros(num_agents)                          # initialize the score (for each agent)\n",
    "    while True:\n",
    "        actions = np.concatenate((agent_0.act(states, _add_noise), agent_1.act(states, _add_noise)), axis=0).flatten() # select an action (for each agent)\n",
    "        env_info = env.step(actions)[brain_name]           # send all actions to tne environment\n",
    "        next_states = np.reshape(env_info.vector_observations, (1, 48)) # get next state (for each agent)\n",
    "        rewards = env_info.rewards                         # get reward (for each agent)\n",
    "        dones = env_info.local_done                        # see if episode finished\n",
    "        scores += np.max(rewards)                         # update the score (for each agent)\n",
    "        states = next_states                               # roll over states to next time step\n",
    "        if np.any(dones):                                  # exit loop if episode finished\n",
    "            break\n",
    "    print('Score (max over agents) from episode {}: {}'.format(i, np.max(scores)))"
   ]
  },
  {
   "cell_type": "markdown",
   "metadata": {},
   "source": [
    "When finished, you can close the environment."
   ]
  },
  {
   "cell_type": "code",
   "execution_count": 21,
   "metadata": {},
   "outputs": [],
   "source": [
    "env.close()"
   ]
  }
 ],
 "metadata": {
  "anaconda-cloud": {},
  "kernelspec": {
   "display_name": "Python 3",
   "language": "python",
   "name": "python3"
  },
  "language_info": {
   "codemirror_mode": {
    "name": "ipython",
    "version": 3
   },
   "file_extension": ".py",
   "mimetype": "text/x-python",
   "name": "python",
   "nbconvert_exporter": "python",
   "pygments_lexer": "ipython3",
   "version": "3.7.6"
  }
 },
 "nbformat": 4,
 "nbformat_minor": 2
}
